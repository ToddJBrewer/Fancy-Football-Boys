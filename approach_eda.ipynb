{
 "cells": [
  {
   "cell_type": "markdown",
   "id": "af6a3bda",
   "metadata": {},
   "source": [
    "# import each week of data in"
   ]
  },
  {
   "cell_type": "code",
   "execution_count": 1,
   "id": "88c75160",
   "metadata": {},
   "outputs": [],
   "source": [
    "import pandas as pd\n",
    "\n",
    "filename = \"../data/mahomes.csv\"\n",
    "\n",
    "df = pd.read_csv(filename)"
   ]
  },
  {
   "cell_type": "markdown",
   "id": "b147d08f",
   "metadata": {},
   "source": [
    "# new approach -- look at data week by week\n",
    "train set is previous weeks\n",
    "test set is current week\n",
    "\n",
    "Based on EDA, we care about 3 QB stats:\n",
    "1. Completions\n",
    "2. Passing Yards\n",
    "3. Passing TDs\n",
    "4. Rushing Yards\n",
    "4. Rushing TDs\n",
    "\n",
    "We will run linear regression on these 3 stats with the target being points scored.\n",
    "Weights will start out at 1/3 and adjust based on accuracy.\n",
    "\n"
   ]
  },
  {
   "cell_type": "code",
   "execution_count": 2,
   "id": "b78ccea1",
   "metadata": {},
   "outputs": [
    {
     "data": {
      "text/html": [
       "<div>\n",
       "<style scoped>\n",
       "    .dataframe tbody tr th:only-of-type {\n",
       "        vertical-align: middle;\n",
       "    }\n",
       "\n",
       "    .dataframe tbody tr th {\n",
       "        vertical-align: top;\n",
       "    }\n",
       "\n",
       "    .dataframe thead th {\n",
       "        text-align: right;\n",
       "    }\n",
       "</style>\n",
       "<table border=\"1\" class=\"dataframe\">\n",
       "  <thead>\n",
       "    <tr style=\"text-align: right;\">\n",
       "      <th></th>\n",
       "      <th>CMP</th>\n",
       "      <th>YDS</th>\n",
       "      <th>TD</th>\n",
       "      <th>YDS.1</th>\n",
       "      <th>TD.1</th>\n",
       "    </tr>\n",
       "  </thead>\n",
       "  <tbody>\n",
       "    <tr>\n",
       "      <th>0</th>\n",
       "      <td>30</td>\n",
       "      <td>360</td>\n",
       "      <td>5</td>\n",
       "      <td>5</td>\n",
       "      <td>0</td>\n",
       "    </tr>\n",
       "    <tr>\n",
       "      <th>1</th>\n",
       "      <td>24</td>\n",
       "      <td>235</td>\n",
       "      <td>2</td>\n",
       "      <td>-1</td>\n",
       "      <td>0</td>\n",
       "    </tr>\n",
       "    <tr>\n",
       "      <th>2</th>\n",
       "      <td>20</td>\n",
       "      <td>262</td>\n",
       "      <td>1</td>\n",
       "      <td>26</td>\n",
       "      <td>0</td>\n",
       "    </tr>\n",
       "    <tr>\n",
       "      <th>3</th>\n",
       "      <td>23</td>\n",
       "      <td>249</td>\n",
       "      <td>3</td>\n",
       "      <td>34</td>\n",
       "      <td>0</td>\n",
       "    </tr>\n",
       "    <tr>\n",
       "      <th>4</th>\n",
       "      <td>29</td>\n",
       "      <td>292</td>\n",
       "      <td>4</td>\n",
       "      <td>28</td>\n",
       "      <td>0</td>\n",
       "    </tr>\n",
       "    <tr>\n",
       "      <th>...</th>\n",
       "      <td>...</td>\n",
       "      <td>...</td>\n",
       "      <td>...</td>\n",
       "      <td>...</td>\n",
       "      <td>...</td>\n",
       "    </tr>\n",
       "    <tr>\n",
       "      <th>68</th>\n",
       "      <td>23</td>\n",
       "      <td>295</td>\n",
       "      <td>4</td>\n",
       "      <td>52</td>\n",
       "      <td>0</td>\n",
       "    </tr>\n",
       "    <tr>\n",
       "      <th>69</th>\n",
       "      <td>35</td>\n",
       "      <td>377</td>\n",
       "      <td>2</td>\n",
       "      <td>-3</td>\n",
       "      <td>0</td>\n",
       "    </tr>\n",
       "    <tr>\n",
       "      <th>70</th>\n",
       "      <td>24</td>\n",
       "      <td>243</td>\n",
       "      <td>2</td>\n",
       "      <td>3</td>\n",
       "      <td>0</td>\n",
       "    </tr>\n",
       "    <tr>\n",
       "      <th>71</th>\n",
       "      <td>23</td>\n",
       "      <td>273</td>\n",
       "      <td>3</td>\n",
       "      <td>33</td>\n",
       "      <td>0</td>\n",
       "    </tr>\n",
       "    <tr>\n",
       "      <th>72</th>\n",
       "      <td>14</td>\n",
       "      <td>281</td>\n",
       "      <td>2</td>\n",
       "      <td>1</td>\n",
       "      <td>0</td>\n",
       "    </tr>\n",
       "  </tbody>\n",
       "</table>\n",
       "<p>73 rows × 5 columns</p>\n",
       "</div>"
      ],
      "text/plain": [
       "    CMP  YDS  TD  YDS.1  TD.1\n",
       "0    30  360   5      5     0\n",
       "1    24  235   2     -1     0\n",
       "2    20  262   1     26     0\n",
       "3    23  249   3     34     0\n",
       "4    29  292   4     28     0\n",
       "..  ...  ...  ..    ...   ...\n",
       "68   23  295   4     52     0\n",
       "69   35  377   2     -3     0\n",
       "70   24  243   2      3     0\n",
       "71   23  273   3     33     0\n",
       "72   14  281   2      1     0\n",
       "\n",
       "[73 rows x 5 columns]"
      ]
     },
     "execution_count": 2,
     "metadata": {},
     "output_type": "execute_result"
    }
   ],
   "source": [
    "df.describe()\n",
    "df\n",
    "\n",
    "x_stats = df.drop(['WEEK', 'OPP', 'ATT', 'PCT', 'AVG', 'INT', 'RAT', 'ATT.1', 'AVG.1', 'FPTS/G', 'FPTS'], axis=1)\n",
    "y_points = df.iloc[:,15]\n",
    "\n",
    "train_x = x_stats[6:]\n",
    "train_y = y_points[6:]\n",
    "\n",
    "test_x = x_stats[:5]\n",
    "test_y = y_points[:5]\n",
    "\n",
    "from sklearn.linear_model import LinearRegression\n",
    "from sklearn.metrics import mean_squared_error\n",
    "\n",
    "reg = LinearRegression()\n",
    "reg.fit(train_x, train_y)\n",
    "mean_squared_error(test_y, reg.predict(test_x))\n",
    "\n",
    "x_stats"
   ]
  },
  {
   "cell_type": "code",
   "execution_count": 3,
   "id": "cf9b55b7",
   "metadata": {},
   "outputs": [
    {
     "data": {
      "text/plain": [
       "30.44426501876752"
      ]
     },
     "execution_count": 3,
     "metadata": {},
     "output_type": "execute_result"
    }
   ],
   "source": [
    "# use lasso or ridge instead of doing it myself, usually get better results\n",
    "# lasso\n",
    "\n",
    "from sklearn.linear_model import Lasso\n",
    "\n",
    "lasso = Lasso(alpha=10)    #alpha is size of threshold, total weight of abs val of our features can't exceed alpha\n",
    "lasso.fit(train_x, train_y)\n",
    "mean_squared_error(test_y, lasso.predict(test_x))"
   ]
  },
  {
   "cell_type": "code",
   "execution_count": 4,
   "id": "c8eacf4a",
   "metadata": {},
   "outputs": [
    {
     "data": {
      "text/plain": [
       "<matplotlib.collections.PathCollection at 0x7f8e41fa6890>"
      ]
     },
     "execution_count": 4,
     "metadata": {},
     "output_type": "execute_result"
    },
    {
     "data": {
      "image/png": "[encoded data removed]",
      "text/plain": [
       "<Figure size 640x480 with 1 Axes>"
      ]
     },
     "metadata": {},
     "output_type": "display_data"
    }
   ],
   "source": [
    "import matplotlib.pyplot as plt\n",
    "plt.scatter(test_y, reg.predict(test_x))"
   ]
  },
  {
   "cell_type": "code",
   "execution_count": 5,
   "id": "9fc2c63a",
   "metadata": {},
   "outputs": [
    {
     "data": {
      "text/plain": [
       "array([33.75314739, 16.61923785, 15.66546842, 24.47244712, 29.6343896 ])"
      ]
     },
     "execution_count": 5,
     "metadata": {},
     "output_type": "execute_result"
    }
   ],
   "source": [
    "reg.predict(test_x)"
   ]
  },
  {
   "cell_type": "code",
   "execution_count": 6,
   "id": "e3b73d44",
   "metadata": {},
   "outputs": [
    {
     "data": {
      "text/plain": [
       "0     34.90\n",
       "1     17.30\n",
       "2     17.08\n",
       "3     23.36\n",
       "4     30.48\n",
       "      ...  \n",
       "68    33.00\n",
       "69    20.78\n",
       "70    18.02\n",
       "71    28.22\n",
       "72    17.34\n",
       "Name: FPTS, Length: 73, dtype: float64"
      ]
     },
     "execution_count": 6,
     "metadata": {},
     "output_type": "execute_result"
    }
   ],
   "source": [
    "y_points"
   ]
  }
 ],
 "metadata": {
  "kernelspec": {
   "display_name": "Python 3 (ipykernel)",
   "language": "python",
   "name": "python3"
  },
  "language_info": {
   "codemirror_mode": {
    "name": "ipython",
    "version": 3
   },
   "file_extension": ".py",
   "mimetype": "text/x-python",
   "name": "python",
   "nbconvert_exporter": "python",
   "pygments_lexer": "ipython3",
   "version": "3.11.0"
  }
 },
 "nbformat": 4,
 "nbformat_minor": 5
}
