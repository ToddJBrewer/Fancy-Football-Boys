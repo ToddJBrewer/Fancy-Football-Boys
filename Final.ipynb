{
 "cells": [
  {
   "cell_type": "markdown",
   "id": "a7ca391a",
   "metadata": {},
   "source": [
    "# import each week of data in"
   ]
  },
  {
   "cell_type": "code",
   "execution_count": 1,
   "id": "e7a2b2a9",
   "metadata": {},
   "outputs": [],
   "source": [
    "import pandas as pd\n",
    "\n",
    "df = pd.read_csv(\"mahomes.csv\")"
   ]
  },
  {
   "cell_type": "markdown",
   "id": "86a4095c",
   "metadata": {},
   "source": [
    "# new approach -- look at data week by week\n",
    "train set is previous weeks\n",
    "test set is current week\n",
    "\n",
    "Based on EDA, we care about 3 QB stats:\n",
    "1. Completions\n",
    "2. Passing Yards\n",
    "3. Passing TDs\n",
    "4. Rushing Yards\n",
    "4. Rushing TDs\n",
    "\n",
    "We will run linear regression on these 3 stats with the target being points scored.\n",
    "Weights will start out at 1/3 and adjust based on accuracy.\n",
    "\n"
   ]
  },
  {
   "cell_type": "code",
   "execution_count": 2,
   "id": "2576bdba",
   "metadata": {},
   "outputs": [
    {
     "data": {
      "text/html": [
       "<div>\n",
       "<style scoped>\n",
       "    .dataframe tbody tr th:only-of-type {\n",
       "        vertical-align: middle;\n",
       "    }\n",
       "\n",
       "    .dataframe tbody tr th {\n",
       "        vertical-align: top;\n",
       "    }\n",
       "\n",
       "    .dataframe thead th {\n",
       "        text-align: right;\n",
       "    }\n",
       "</style>\n",
       "<table border=\"1\" class=\"dataframe\">\n",
       "  <thead>\n",
       "    <tr style=\"text-align: right;\">\n",
       "      <th></th>\n",
       "      <th>CMP</th>\n",
       "      <th>YDS</th>\n",
       "      <th>TD</th>\n",
       "      <th>YDS.1</th>\n",
       "      <th>TD.1</th>\n",
       "    </tr>\n",
       "  </thead>\n",
       "  <tbody>\n",
       "    <tr>\n",
       "      <th>0</th>\n",
       "      <td>30</td>\n",
       "      <td>360</td>\n",
       "      <td>5</td>\n",
       "      <td>5</td>\n",
       "      <td>0</td>\n",
       "    </tr>\n",
       "    <tr>\n",
       "      <th>1</th>\n",
       "      <td>24</td>\n",
       "      <td>235</td>\n",
       "      <td>2</td>\n",
       "      <td>-1</td>\n",
       "      <td>0</td>\n",
       "    </tr>\n",
       "    <tr>\n",
       "      <th>2</th>\n",
       "      <td>20</td>\n",
       "      <td>262</td>\n",
       "      <td>1</td>\n",
       "      <td>26</td>\n",
       "      <td>0</td>\n",
       "    </tr>\n",
       "    <tr>\n",
       "      <th>3</th>\n",
       "      <td>23</td>\n",
       "      <td>249</td>\n",
       "      <td>3</td>\n",
       "      <td>34</td>\n",
       "      <td>0</td>\n",
       "    </tr>\n",
       "    <tr>\n",
       "      <th>4</th>\n",
       "      <td>29</td>\n",
       "      <td>292</td>\n",
       "      <td>4</td>\n",
       "      <td>28</td>\n",
       "      <td>0</td>\n",
       "    </tr>\n",
       "    <tr>\n",
       "      <th>5</th>\n",
       "      <td>25</td>\n",
       "      <td>338</td>\n",
       "      <td>2</td>\n",
       "      <td>21</td>\n",
       "      <td>0</td>\n",
       "    </tr>\n",
       "    <tr>\n",
       "      <th>6</th>\n",
       "      <td>25</td>\n",
       "      <td>423</td>\n",
       "      <td>3</td>\n",
       "      <td>0</td>\n",
       "      <td>0</td>\n",
       "    </tr>\n",
       "    <tr>\n",
       "      <th>7</th>\n",
       "      <td>43</td>\n",
       "      <td>446</td>\n",
       "      <td>1</td>\n",
       "      <td>63</td>\n",
       "      <td>1</td>\n",
       "    </tr>\n",
       "    <tr>\n",
       "      <th>8</th>\n",
       "      <td>26</td>\n",
       "      <td>331</td>\n",
       "      <td>4</td>\n",
       "      <td>39</td>\n",
       "      <td>0</td>\n",
       "    </tr>\n",
       "    <tr>\n",
       "      <th>9</th>\n",
       "      <td>20</td>\n",
       "      <td>329</td>\n",
       "      <td>3</td>\n",
       "      <td>23</td>\n",
       "      <td>0</td>\n",
       "    </tr>\n",
       "    <tr>\n",
       "      <th>10</th>\n",
       "      <td>27</td>\n",
       "      <td>320</td>\n",
       "      <td>1</td>\n",
       "      <td>36</td>\n",
       "      <td>0</td>\n",
       "    </tr>\n",
       "  </tbody>\n",
       "</table>\n",
       "</div>"
      ],
      "text/plain": [
       "    CMP  YDS  TD  YDS.1  TD.1\n",
       "0    30  360   5      5     0\n",
       "1    24  235   2     -1     0\n",
       "2    20  262   1     26     0\n",
       "3    23  249   3     34     0\n",
       "4    29  292   4     28     0\n",
       "5    25  338   2     21     0\n",
       "6    25  423   3      0     0\n",
       "7    43  446   1     63     1\n",
       "8    26  331   4     39     0\n",
       "9    20  329   3     23     0\n",
       "10   27  320   1     36     0"
      ]
     },
     "execution_count": 2,
     "metadata": {},
     "output_type": "execute_result"
    }
   ],
   "source": [
    "df.describe()\n",
    "df\n",
    "\n",
    "x_stats = df.drop(['WEEK', 'OPP', 'ATT', 'PCT', 'AVG', 'INT', 'RAT', 'ATT.1', 'AVG.1', 'FPTS/G', 'FPTS'], axis=1)\n",
    "y_points = df.iloc[:,15]\n",
    "\n",
    "train_x = x_stats[6:]\n",
    "train_y = y_points[6:]\n",
    "\n",
    "test_x = x_stats[:5]\n",
    "test_y = y_points[:5]\n",
    "\n",
    "from sklearn.linear_model import LinearRegression\n",
    "from sklearn.metrics import mean_squared_error\n",
    "\n",
    "reg = LinearRegression()\n",
    "reg.fit(train_x, train_y)\n",
    "mean_squared_error(test_y, reg.predict(test_x))\n",
    "\n",
    "x_stats"
   ]
  },
  {
   "cell_type": "code",
   "execution_count": 3,
   "id": "4a5ee5ff",
   "metadata": {},
   "outputs": [
    {
     "data": {
      "text/plain": [
       "33.44164768392936"
      ]
     },
     "execution_count": 3,
     "metadata": {},
     "output_type": "execute_result"
    }
   ],
   "source": [
    "# use lasso or ridge instead of doing it myself, usually get better results\n",
    "# lasso\n",
    "\n",
    "from sklearn.linear_model import Lasso\n",
    "\n",
    "lasso = Lasso(alpha=10)    #alpha is size of threshold, total weight of abs val of our features can't exceed alpha\n",
    "lasso.fit(train_x, train_y)\n",
    "mean_squared_error(test_y, lasso.predict(test_x))"
   ]
  },
  {
   "cell_type": "code",
   "execution_count": 4,
   "id": "dc52dea5",
   "metadata": {},
   "outputs": [],
   "source": [
    "# Ridge\n",
    "\n",
    "#from sklearn.linear_model import Ridge\n",
    "\n",
    "#ridge = Ridge(alpha=10)    #alpha is size of threshold, total weight of abs val of our features can't exceed alpha\n",
    "#ridge.fit(train_x, train_y)\n",
    "#mean_squared_error(test_y, ridge.predict(test_x))"
   ]
  },
  {
   "cell_type": "code",
   "execution_count": 5,
   "id": "0fd2b288",
   "metadata": {},
   "outputs": [],
   "source": [
    "# divide data set into training, validation, and test\n",
    "# Grid Search -- create grid of alpha and beta hyperparams\n",
    "# Cross validation -- move validation portion around while training on data set\n",
    "\n",
    "#from sklearn.model_selection import GridSearchCV  #GriSearchCV becomes regressor instead of ridge\n",
    "#params = {'alpha': [0.001, 0.01, 0.1, 1, 2, 5, 10, 100, 1000]}\n",
    "#ridge = Ridge()\n",
    "#reg = GridSearchCV(ridge, params, scoring='neg_mean_squared_error',\n",
    "#                  cv=5)\n",
    "\n",
    "#reg.fit(train_x, train_y)"
   ]
  },
  {
   "cell_type": "code",
   "execution_count": 6,
   "id": "0a817449",
   "metadata": {},
   "outputs": [],
   "source": [
    "#reg.best_params_"
   ]
  },
  {
   "cell_type": "code",
   "execution_count": 7,
   "id": "cb33bad3",
   "metadata": {},
   "outputs": [],
   "source": [
    "#reg.best_score_"
   ]
  },
  {
   "cell_type": "code",
   "execution_count": 8,
   "id": "3fa16200",
   "metadata": {},
   "outputs": [],
   "source": [
    "#mean_squared_error(test_y, reg.predict(test_x))"
   ]
  },
  {
   "cell_type": "code",
   "execution_count": 17,
   "id": "7273bac0",
   "metadata": {},
   "outputs": [
    {
     "data": {
      "text/plain": [
       "<matplotlib.collections.PathCollection at 0x16ee4cb0ac0>"
      ]
     },
     "execution_count": 17,
     "metadata": {},
     "output_type": "execute_result"
    },
    {
     "data": {
      "image/png": "[encoded data removed]",
      "text/plain": [
       "<Figure size 640x480 with 1 Axes>"
      ]
     },
     "metadata": {},
     "output_type": "display_data"
    }
   ],
   "source": [
    "import matplotlib.pyplot as plt\n",
    "plt.scatter(test_y, reg.predict(test_x))"
   ]
  },
  {
   "cell_type": "code",
   "execution_count": 15,
   "id": "e4d08602",
   "metadata": {},
   "outputs": [
    {
     "data": {
      "text/plain": [
       "array([18.06111277, -7.61117519, 11.81509581, 15.35875775, 15.66614148])"
      ]
     },
     "execution_count": 15,
     "metadata": {},
     "output_type": "execute_result"
    }
   ],
   "source": [
    "reg.predict(test_x)"
   ]
  },
  {
   "cell_type": "code",
   "execution_count": 11,
   "id": "7d9d897b",
   "metadata": {},
   "outputs": [
    {
     "data": {
      "text/plain": [
       "0     34.90\n",
       "1     17.30\n",
       "2     17.08\n",
       "3     23.36\n",
       "4     30.48\n",
       "5     19.62\n",
       "6     26.92\n",
       "7     34.14\n",
       "8     31.14\n",
       "9     27.46\n",
       "10    18.40\n",
       "Name: FPTS, dtype: float64"
      ]
     },
     "execution_count": 11,
     "metadata": {},
     "output_type": "execute_result"
    }
   ],
   "source": [
    "y_points"
   ]
  },
  {
   "cell_type": "code",
   "execution_count": 30,
   "id": "958fa674",
   "metadata": {},
   "outputs": [
    {
     "data": {
      "image/png": "[encoded data removed]",
      "text/plain": [
       "<Figure size 640x480 with 1 Axes>"
      ]
     },
     "metadata": {},
     "output_type": "display_data"
    }
   ],
   "source": [
    "plt.scatter(df.TD, df.FPTS, color='blue')\n",
    "plt.plot(df.YDS, reg.predict(x_stats), color='black')\n",
    "\n",
    "plt.show()"
   ]
  }
 ],
 "metadata": {
  "kernelspec": {
   "display_name": "Python 3 (ipykernel)",
   "language": "python",
   "name": "python3"
  },
  "language_info": {
   "codemirror_mode": {
    "name": "ipython",
    "version": 3
   },
   "file_extension": ".py",
   "mimetype": "text/x-python",
   "name": "python",
   "nbconvert_exporter": "python",
   "pygments_lexer": "ipython3",
   "version": "3.9.15"
  }
 },
 "nbformat": 4,
 "nbformat_minor": 5
}
